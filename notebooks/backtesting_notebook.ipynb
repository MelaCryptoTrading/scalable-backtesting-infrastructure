{
 "cells": [
  {
   "cell_type": "code",
   "execution_count": 5,
   "metadata": {},
   "outputs": [],
   "source": [
    "# Add the path to the src directory to the system path\n",
    "import sys\n",
    "import os\n",
    "\n",
    "# Ensure the path to the src directory is added\n",
    "sys.path.append(os.path.abspath('../src'))\n",
    "\n",
    "# Import the necessary modules and functions\n",
    "import pandas as pd\n",
    "from backtesting_module import RSIStrategy, MACDStrategy, run_backtest, load_data\n",
    "\n",
    "# Load data\n",
    "data = load_data('../data/BTC-USD.csv')\n"
   ]
  },
  {
   "cell_type": "code",
   "execution_count": null,
   "metadata": {},
   "outputs": [],
   "source": [
    "# Run backtest for RSI strategy\n",
    "rsi_results = run_backtest(data, RSIStrategy, {'rsi_period': 14, 'rsi_upper': 70, 'rsi_lower': 30})\n",
    "\n",
    "# Print RSI results\n",
    "print(\"RSI Backtest Results:\")\n",
    "for key, value in rsi_results.items():\n",
    "    if key != 'Trades':  # Print all results except trades\n",
    "        print(f\"{key}: {value}\")\n"
   ]
  },
  {
   "cell_type": "code",
   "execution_count": null,
   "metadata": {},
   "outputs": [],
   "source": [
    "# Run backtest for MACD strategy\n",
    "macd_results = run_backtest(data, MACDStrategy, {'macd1': 12, 'macd2': 26, 'signal': 9})\n",
    "\n",
    "# Print MACD results\n",
    "print(\"MACD Backtest Results:\")\n",
    "for key, value in macd_results.items():\n",
    "    if key != 'Trades':  # Print all results except trades\n",
    "        print(f\"{key}: {value}\")"
   ]
  }
 ],
 "metadata": {
  "kernelspec": {
   "display_name": ".venv",
   "language": "python",
   "name": "python3"
  },
  "language_info": {
   "codemirror_mode": {
    "name": "ipython",
    "version": 3
   },
   "file_extension": ".py",
   "mimetype": "text/x-python",
   "name": "python",
   "nbconvert_exporter": "python",
   "pygments_lexer": "ipython3",
   "version": "3.10.10"
  }
 },
 "nbformat": 4,
 "nbformat_minor": 2
}
