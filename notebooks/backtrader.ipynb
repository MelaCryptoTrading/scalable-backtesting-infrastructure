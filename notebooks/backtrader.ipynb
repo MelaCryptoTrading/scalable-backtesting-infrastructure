{
 "cells": [
  {
   "cell_type": "code",
   "execution_count": 1,
   "metadata": {},
   "outputs": [],
   "source": [
    "from __future__ import (absolute_import, division, print_function,unicode_literals)\n",
    "import pandas as pd\n",
    "import backtrader as bt\n",
    "from datetime import datetime\n",
    "import os\n",
    "import sys\n",
    "import json\n",
    "from backtrader.analyzers import Returns,DrawDown,SharpeRatio,TradeAnalyzer"
   ]
  },
  {
   "cell_type": "code",
   "execution_count": 2,
   "metadata": {},
   "outputs": [],
   "source": [
    "sys.path.append('../backtesting/')\n",
    "from strategies import TestStrategy, SMA_RSI, MovingAverageCrossStrategy"
   ]
  },
  {
   "cell_type": "code",
   "execution_count": 3,
   "metadata": {},
   "outputs": [],
   "source": [
    "def prepare_cerebro(asset,strategy,data_path,start_date:str,end_date:str=datetime.now(),cash:int=100,commission:float=0)->bt.Cerebro:\n",
    "    if end_date ==None:\n",
    "        end_date= datetime.strftime(datetime.now(),\"%Y-%m-%d\")\n",
    "\n",
    "    cerebro = bt.Cerebro()\n",
    "    cerebro.broker.setcash(cash)\n",
    "    cerebro.broker.setcommission(commission=commission)\n",
    "    cerebro.addstrategy(strategy)\n",
    "    \n",
    "    isExist = os.path.exists(data_path)\n",
    "    if not isExist:\n",
    "        data= yf.download(asset,start_date,end=end_date)\n",
    "        data.to_csv(data_path)\n",
    "    \n",
    "    data = bt.feeds.YahooFinanceCSVData(\n",
    "        dataname=data_path,\n",
    "        fromdate=datetime.strptime(start_date,\"%Y-%m-%d\"),\n",
    "        todate=datetime.strptime(end_date,\"%Y-%m-%d\"),\n",
    "        reverse=False\n",
    "    )\n",
    "\n",
    "    cerebro.adddata(data)\n",
    "    # cerebro.addanalyzer(AnnualReturn)\n",
    "    cerebro.addanalyzer(TradeAnalyzer)\n",
    "    return cerebro"
   ]
  },
  {
   "cell_type": "code",
   "execution_count": 4,
   "metadata": {},
   "outputs": [],
   "source": [
    "def run_test(cerebro:bt.Cerebro):\n",
    "\n",
    "    result={}\n",
    "\n",
    "    cerebro.addanalyzer(SharpeRatio, _name='sharpe')\n",
    "    cerebro.addanalyzer(Returns, _name='returns')\n",
    "    cerebro.addanalyzer(DrawDown, _name='draw')\n",
    "    cerebro.addanalyzer(TradeAnalyzer, _name='trade')\n",
    "    \n",
    "    starting = cerebro.broker.getvalue()\n",
    "    res=cerebro.run()\n",
    "    final=cerebro.broker.getvalue()\n",
    "\n",
    "    thestrat = res[0]\n",
    "\n",
    "    sharpe=thestrat.analyzers.sharpe.get_analysis()\n",
    "    return_val=thestrat.analyzers.returns.get_analysis()\n",
    "    drawdown=thestrat.analyzers.draw.get_analysis()\n",
    "    trade=thestrat.analyzers.trade.get_analysis()\n",
    "\n",
    "    result[\"sharpe_ratio\"]=sharpe['sharperatio']\n",
    "    result[\"return\"]=return_val['rtot']\n",
    "    result['max_drawdown'] = drawdown['max']['drawdown']\n",
    "    \n",
    "    try:\n",
    "        result['win_trade']=trade['won']['total']\n",
    "    except:\n",
    "        result['win_trade']=\"Undefined\"\n",
    "    \n",
    "    try:\n",
    "        result['loss_trade']=trade['lost']['total']\n",
    "    except:\n",
    "        result['loss_trade']=\"Undefined\"\n",
    "\n",
    "    try:\n",
    "        result['total_trade']=trade['total']['total']\n",
    "    except:\n",
    "        result['total_trade']=\"Undefined\"\n",
    "\n",
    "    result['start_portfolio']=starting\n",
    "    result['final_portfolio']=final\n",
    "\n",
    "    return result"
   ]
  },
  {
   "cell_type": "code",
   "execution_count": 5,
   "metadata": {},
   "outputs": [
    {
     "data": {
      "text/plain": [
       "{'sharpe_ratio': 7.29638656907243,\n",
       " 'return': 0.15896763109564546,\n",
       " 'max_drawdown': 11.43481996407093,\n",
       " 'win_trade': 8,\n",
       " 'loss_trade': 9,\n",
       " 'total_trade': 17,\n",
       " 'start_portfolio': 100,\n",
       " 'final_portfolio': 117.22999999999999}"
      ]
     },
     "execution_count": 5,
     "metadata": {},
     "output_type": "execute_result"
    }
   ],
   "source": [
    "cerebro=prepare_cerebro('BITC',SMA_RSI,\"../data/BITC.csv\",\"2023-06-21\",\"2024-06-21\")\n",
    "\n",
    "result=run_test(cerebro)\n",
    "result"
   ]
  },
  {
   "cell_type": "markdown",
   "metadata": {},
   "source": [
    "### SMA_RSI Strategy Metrics \n",
    "#### Sharpe ratio\n",
    "- The sharpe ratio at 7.30 is outstanding (generally a Sharpe ratio above 1 is considered adequate/good, above 2 is very good, and above 3 is excellent)\n",
    "#### Return \n",
    "- Indicates a 15.90% return on the initial investment over the backtesting period, indicating a profitable strategy\n",
    "#### Max Drawdown\n",
    "- Indicates that the portfolio experienced a decline of up to 11.43% from its highest value\n",
    "#### Trades\n",
    "- Of the 17 trades executed, 8 were profitable and 9 were unprofitable.\n",
    "#### Portfolio\n",
    "- The backtest started with a portfolio value of 100 units and ended with 117.23 units, showing overall growth"
   ]
  },
  {
   "cell_type": "code",
   "execution_count": 6,
   "metadata": {},
   "outputs": [
    {
     "data": {
      "text/plain": [
       "{'sharpe_ratio': 2.922273238765637,\n",
       " 'return': 0.5116253039365551,\n",
       " 'max_drawdown': 21.90520735890242,\n",
       " 'win_trade': 'Undefined',\n",
       " 'loss_trade': 'Undefined',\n",
       " 'total_trade': 1,\n",
       " 'start_portfolio': 100,\n",
       " 'final_portfolio': 166.8}"
      ]
     },
     "execution_count": 6,
     "metadata": {},
     "output_type": "execute_result"
    }
   ],
   "source": [
    "cerebro=prepare_cerebro('BITC',TestStrategy,\"../data/BITC.csv\",\"2023-06-21\",\"2024-06-21\")\n",
    "\n",
    "result=run_test(cerebro)\n",
    "result"
   ]
  },
  {
   "cell_type": "markdown",
   "metadata": {},
   "source": [
    "### Test Strategy Metrics\n",
    "#### Sharpe ratio\n",
    "- The sharpe ratio at 1.93 is quite good, indicates that the strategy provides good returns relative to the risk taken.\n",
    "#### Return \n",
    "- Indicates a 10.88% return on the initial investment over the backtesting period.\n",
    "#### Max Drawdown\n",
    "- Indicates that at its worst point, the portfolio value declined by 8.96% from its highest value before recovering.\n",
    "#### Trades\n",
    "- Of the 21 trades executed, 12 were profitable and 9 were unprofitable.\n",
    "#### Portfolio\n",
    "- The backtest started with a portfolio value of 100 units and ended with 111.49 units, showing overall growth"
   ]
  },
  {
   "cell_type": "code",
   "execution_count": 7,
   "metadata": {},
   "outputs": [
    {
     "data": {
      "text/plain": [
       "{'sharpe_ratio': None,\n",
       " 'return': 0.0,\n",
       " 'max_drawdown': 0.0,\n",
       " 'win_trade': 'Undefined',\n",
       " 'loss_trade': 'Undefined',\n",
       " 'total_trade': 0,\n",
       " 'start_portfolio': 100,\n",
       " 'final_portfolio': 100.0}"
      ]
     },
     "execution_count": 7,
     "metadata": {},
     "output_type": "execute_result"
    }
   ],
   "source": [
    "cerebro=prepare_cerebro('ETH-USD',TestStrategy,\"../data/ETH-USD.csv\",\"2023-06-22\",\"2024-06-22\")\n",
    "\n",
    "result=run_test(cerebro)\n",
    "result"
   ]
  },
  {
   "cell_type": "code",
   "execution_count": null,
   "metadata": {},
   "outputs": [],
   "source": []
  }
 ],
 "metadata": {
  "kernelspec": {
   "display_name": "venv",
   "language": "python",
   "name": "python3"
  },
  "language_info": {
   "codemirror_mode": {
    "name": "ipython",
    "version": 3
   },
   "file_extension": ".py",
   "mimetype": "text/x-python",
   "name": "python",
   "nbconvert_exporter": "python",
   "pygments_lexer": "ipython3",
   "version": "3.12.3"
  }
 },
 "nbformat": 4,
 "nbformat_minor": 2
}
